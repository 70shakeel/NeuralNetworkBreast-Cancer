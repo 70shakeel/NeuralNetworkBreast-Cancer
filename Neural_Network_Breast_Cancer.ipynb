{
  "nbformat": 4,
  "nbformat_minor": 0,
  "metadata": {
    "colab": {
      "name": "Neural_Network_Breast_Cancer.ipynb",
      "provenance": [],
      "collapsed_sections": []
    },
    "kernelspec": {
      "name": "python3",
      "display_name": "Python 3"
    }
  },
  "cells": [
    {
      "cell_type": "code",
      "metadata": {
        "id": "nR1Ywm-vVEDJ",
        "colab_type": "code",
        "colab": {}
      },
      "source": [
        "import numpy as np\n",
        "import pandas as pd\n",
        "import matplotlib.pyplot as plt\n",
        "from sklearn.metrics import confusion_matrix\n",
        "from sklearn.metrics import accuracy_score\n",
        "import seaborn as sns; sns.set()"
      ],
      "execution_count": 0,
      "outputs": []
    },
    {
      "cell_type": "code",
      "metadata": {
        "id": "8ThymwH_NiD7",
        "colab_type": "code",
        "colab": {}
      },
      "source": [
        "from google.colab import drive\n",
        "drive.mount('/content/drive')"
      ],
      "execution_count": 0,
      "outputs": []
    },
    {
      "cell_type": "code",
      "metadata": {
        "id": "q7j8HRZgY4yg",
        "colab_type": "code",
        "colab": {}
      },
      "source": [
        "x_train = pd.read_csv(r'/content/drive/My Drive/IML Assignment 2/xtrain.csv')\n",
        "y_train = pd.read_csv(r'/content/drive/My Drive/IML Assignment 2/ytrain.csv')\n",
        "\n",
        "x_test = pd.read_csv(r'/content/drive/My Drive/IML Assignment 2/xtest.csv')\n",
        "y_test = pd.read_csv(r'/content/drive/My Drive/IML Assignment 2/ytest.csv')\n"
      ],
      "execution_count": 0,
      "outputs": []
    },
    {
      "cell_type": "code",
      "metadata": {
        "id": "NUL35yTVZr9F",
        "colab_type": "code",
        "outputId": "995e579b-ce7c-48c2-9f21-52883a020bdb",
        "colab": {
          "base_uri": "https://localhost:8080/",
          "height": 34
        }
      },
      "source": [
        "x_train.shape"
      ],
      "execution_count": 0,
      "outputs": [
        {
          "output_type": "execute_result",
          "data": {
            "text/plain": [
              "(454, 30)"
            ]
          },
          "metadata": {
            "tags": []
          },
          "execution_count": 5
        }
      ]
    },
    {
      "cell_type": "code",
      "metadata": {
        "id": "LRqAVrcyZ9kq",
        "colab_type": "code",
        "outputId": "9223996f-9b63-4491-e818-5bde1ef4c5ee",
        "colab": {
          "base_uri": "https://localhost:8080/",
          "height": 34
        }
      },
      "source": [
        "len(y_train)"
      ],
      "execution_count": 0,
      "outputs": [
        {
          "output_type": "execute_result",
          "data": {
            "text/plain": [
              "454"
            ]
          },
          "metadata": {
            "tags": []
          },
          "execution_count": 6
        }
      ]
    },
    {
      "cell_type": "code",
      "metadata": {
        "id": "pQW3MjJcbVFr",
        "colab_type": "code",
        "colab": {}
      },
      "source": [
        "from sklearn.preprocessing import StandardScaler\n",
        "scaler = StandardScaler()\n",
        "x_train = scaler.fit_transform(x_train)\n",
        "x_test = scaler.transform(x_test)"
      ],
      "execution_count": 0,
      "outputs": []
    },
    {
      "cell_type": "code",
      "metadata": {
        "id": "UiiTZLWoHrJu",
        "colab_type": "code",
        "outputId": "9b78224b-5e6c-4cb8-a1f2-b618bba0ba3d",
        "colab": {
          "base_uri": "https://localhost:8080/",
          "height": 34
        }
      },
      "source": [
        "x_train.shape"
      ],
      "execution_count": 0,
      "outputs": [
        {
          "output_type": "execute_result",
          "data": {
            "text/plain": [
              "(454, 30)"
            ]
          },
          "metadata": {
            "tags": []
          },
          "execution_count": 9
        }
      ]
    },
    {
      "cell_type": "code",
      "metadata": {
        "id": "mFihMMedIGD_",
        "colab_type": "code",
        "colab": {}
      },
      "source": [
        "from keras.models import Sequential\n",
        "from keras.layers import Dense, Activation"
      ],
      "execution_count": 0,
      "outputs": []
    },
    {
      "cell_type": "code",
      "metadata": {
        "id": "yHvIMKvnI3VV",
        "colab_type": "code",
        "colab": {}
      },
      "source": [
        "classifier = Sequential([\n",
        "    Dense(32, input_shape=(30,)),\n",
        "    Activation('relu'),\n",
        "    Dense(10),\n",
        "    Activation('softmax'),\n",
        "])"
      ],
      "execution_count": 0,
      "outputs": []
    },
    {
      "cell_type": "code",
      "metadata": {
        "id": "cjdKph9gKj1S",
        "colab_type": "code",
        "colab": {}
      },
      "source": [
        "classifier.add(Dense(units = 5, activation = 'relu', input_dim=9))\n",
        "classifier.add(Dense(units = 3, activation = 'relu'))\n",
        "classifier.add(Dense(units = 1, activation = 'sigmoid'))"
      ],
      "execution_count": 0,
      "outputs": []
    },
    {
      "cell_type": "code",
      "metadata": {
        "id": "0dNixBQaKs7w",
        "colab_type": "code",
        "colab": {}
      },
      "source": [
        "classifier.compile(optimizer='adam', loss='mean_squared_error', metrics=['accuracy'])"
      ],
      "execution_count": 0,
      "outputs": []
    },
    {
      "cell_type": "code",
      "metadata": {
        "id": "BGqQXtixK2K9",
        "colab_type": "code",
        "outputId": "9f69eb4e-2c2c-421d-d87a-f455fb2f9830",
        "colab": {
          "base_uri": "https://localhost:8080/",
          "height": 1000
        }
      },
      "source": [
        "classifier.fit(x_train, y_train, epochs = 100)"
      ],
      "execution_count": 0,
      "outputs": [
        {
          "output_type": "stream",
          "text": [
            "WARNING:tensorflow:From /usr/local/lib/python3.6/dist-packages/keras/backend/tensorflow_backend.py:1033: The name tf.assign_add is deprecated. Please use tf.compat.v1.assign_add instead.\n",
            "\n",
            "WARNING:tensorflow:From /usr/local/lib/python3.6/dist-packages/keras/backend/tensorflow_backend.py:1020: The name tf.assign is deprecated. Please use tf.compat.v1.assign instead.\n",
            "\n",
            "WARNING:tensorflow:From /usr/local/lib/python3.6/dist-packages/keras/backend/tensorflow_backend.py:3005: The name tf.Session is deprecated. Please use tf.compat.v1.Session instead.\n",
            "\n",
            "Epoch 1/100\n",
            "WARNING:tensorflow:From /usr/local/lib/python3.6/dist-packages/keras/backend/tensorflow_backend.py:190: The name tf.get_default_session is deprecated. Please use tf.compat.v1.get_default_session instead.\n",
            "\n",
            "WARNING:tensorflow:From /usr/local/lib/python3.6/dist-packages/keras/backend/tensorflow_backend.py:197: The name tf.ConfigProto is deprecated. Please use tf.compat.v1.ConfigProto instead.\n",
            "\n",
            "WARNING:tensorflow:From /usr/local/lib/python3.6/dist-packages/keras/backend/tensorflow_backend.py:207: The name tf.global_variables is deprecated. Please use tf.compat.v1.global_variables instead.\n",
            "\n",
            "WARNING:tensorflow:From /usr/local/lib/python3.6/dist-packages/keras/backend/tensorflow_backend.py:216: The name tf.is_variable_initialized is deprecated. Please use tf.compat.v1.is_variable_initialized instead.\n",
            "\n",
            "WARNING:tensorflow:From /usr/local/lib/python3.6/dist-packages/keras/backend/tensorflow_backend.py:223: The name tf.variables_initializer is deprecated. Please use tf.compat.v1.variables_initializer instead.\n",
            "\n",
            "454/454 [==============================] - 1s 2ms/step - loss: 0.2316 - acc: 0.6366\n",
            "Epoch 2/100\n",
            "454/454 [==============================] - 0s 52us/step - loss: 0.2109 - acc: 0.6630\n",
            "Epoch 3/100\n",
            "454/454 [==============================] - 0s 53us/step - loss: 0.1926 - acc: 0.7313\n",
            "Epoch 4/100\n",
            "454/454 [==============================] - 0s 56us/step - loss: 0.1763 - acc: 0.8018\n",
            "Epoch 5/100\n",
            "454/454 [==============================] - 0s 52us/step - loss: 0.1618 - acc: 0.8546\n",
            "Epoch 6/100\n",
            "454/454 [==============================] - 0s 54us/step - loss: 0.1489 - acc: 0.8855\n",
            "Epoch 7/100\n",
            "454/454 [==============================] - 0s 53us/step - loss: 0.1371 - acc: 0.9141\n",
            "Epoch 8/100\n",
            "454/454 [==============================] - 0s 52us/step - loss: 0.1259 - acc: 0.9405\n",
            "Epoch 9/100\n",
            "454/454 [==============================] - 0s 52us/step - loss: 0.1149 - acc: 0.9537\n",
            "Epoch 10/100\n",
            "454/454 [==============================] - 0s 52us/step - loss: 0.1046 - acc: 0.9758\n",
            "Epoch 11/100\n",
            "454/454 [==============================] - 0s 60us/step - loss: 0.0951 - acc: 0.9758\n",
            "Epoch 12/100\n",
            "454/454 [==============================] - 0s 69us/step - loss: 0.0860 - acc: 0.9780\n",
            "Epoch 13/100\n",
            "454/454 [==============================] - 0s 65us/step - loss: 0.0776 - acc: 0.9802\n",
            "Epoch 14/100\n",
            "454/454 [==============================] - 0s 56us/step - loss: 0.0698 - acc: 0.9824\n",
            "Epoch 15/100\n",
            "454/454 [==============================] - 0s 64us/step - loss: 0.0627 - acc: 0.9824\n",
            "Epoch 16/100\n",
            "454/454 [==============================] - 0s 58us/step - loss: 0.0557 - acc: 0.9868\n",
            "Epoch 17/100\n",
            "454/454 [==============================] - 0s 56us/step - loss: 0.0498 - acc: 0.9890\n",
            "Epoch 18/100\n",
            "454/454 [==============================] - 0s 56us/step - loss: 0.0447 - acc: 0.9890\n",
            "Epoch 19/100\n",
            "454/454 [==============================] - 0s 51us/step - loss: 0.0402 - acc: 0.9890\n",
            "Epoch 20/100\n",
            "454/454 [==============================] - 0s 66us/step - loss: 0.0362 - acc: 0.9890\n",
            "Epoch 21/100\n",
            "454/454 [==============================] - 0s 69us/step - loss: 0.0327 - acc: 0.9890\n",
            "Epoch 22/100\n",
            "454/454 [==============================] - 0s 75us/step - loss: 0.0297 - acc: 0.9890\n",
            "Epoch 23/100\n",
            "454/454 [==============================] - 0s 61us/step - loss: 0.0271 - acc: 0.9890\n",
            "Epoch 24/100\n",
            "454/454 [==============================] - 0s 61us/step - loss: 0.0250 - acc: 0.9890\n",
            "Epoch 25/100\n",
            "454/454 [==============================] - 0s 61us/step - loss: 0.0231 - acc: 0.9890\n",
            "Epoch 26/100\n",
            "454/454 [==============================] - 0s 56us/step - loss: 0.0215 - acc: 0.9890\n",
            "Epoch 27/100\n",
            "454/454 [==============================] - 0s 51us/step - loss: 0.0202 - acc: 0.9890\n",
            "Epoch 28/100\n",
            "454/454 [==============================] - 0s 49us/step - loss: 0.0190 - acc: 0.9890\n",
            "Epoch 29/100\n",
            "454/454 [==============================] - 0s 50us/step - loss: 0.0179 - acc: 0.9890\n",
            "Epoch 30/100\n",
            "454/454 [==============================] - 0s 62us/step - loss: 0.0171 - acc: 0.9890\n",
            "Epoch 31/100\n",
            "454/454 [==============================] - 0s 52us/step - loss: 0.0163 - acc: 0.9890\n",
            "Epoch 32/100\n",
            "454/454 [==============================] - 0s 51us/step - loss: 0.0155 - acc: 0.9890\n",
            "Epoch 33/100\n",
            "454/454 [==============================] - 0s 50us/step - loss: 0.0149 - acc: 0.9890\n",
            "Epoch 34/100\n",
            "454/454 [==============================] - 0s 51us/step - loss: 0.0143 - acc: 0.9890\n",
            "Epoch 35/100\n",
            "454/454 [==============================] - 0s 51us/step - loss: 0.0138 - acc: 0.9912\n",
            "Epoch 36/100\n",
            "454/454 [==============================] - 0s 54us/step - loss: 0.0134 - acc: 0.9912\n",
            "Epoch 37/100\n",
            "454/454 [==============================] - 0s 48us/step - loss: 0.0130 - acc: 0.9912\n",
            "Epoch 38/100\n",
            "454/454 [==============================] - 0s 48us/step - loss: 0.0126 - acc: 0.9912\n",
            "Epoch 39/100\n",
            "454/454 [==============================] - 0s 70us/step - loss: 0.0123 - acc: 0.9912\n",
            "Epoch 40/100\n",
            "454/454 [==============================] - 0s 61us/step - loss: 0.0120 - acc: 0.9912\n",
            "Epoch 41/100\n",
            "454/454 [==============================] - 0s 55us/step - loss: 0.0117 - acc: 0.9912\n",
            "Epoch 42/100\n",
            "454/454 [==============================] - 0s 58us/step - loss: 0.0114 - acc: 0.9912\n",
            "Epoch 43/100\n",
            "454/454 [==============================] - 0s 59us/step - loss: 0.0112 - acc: 0.9912\n",
            "Epoch 44/100\n",
            "454/454 [==============================] - 0s 59us/step - loss: 0.0110 - acc: 0.9912\n",
            "Epoch 45/100\n",
            "454/454 [==============================] - 0s 48us/step - loss: 0.0108 - acc: 0.9912\n",
            "Epoch 46/100\n",
            "454/454 [==============================] - 0s 60us/step - loss: 0.0105 - acc: 0.9912\n",
            "Epoch 47/100\n",
            "454/454 [==============================] - 0s 61us/step - loss: 0.0104 - acc: 0.9912\n",
            "Epoch 48/100\n",
            "454/454 [==============================] - 0s 57us/step - loss: 0.0100 - acc: 0.9912\n",
            "Epoch 49/100\n",
            "454/454 [==============================] - 0s 58us/step - loss: 0.0097 - acc: 0.9912\n",
            "Epoch 50/100\n",
            "454/454 [==============================] - 0s 57us/step - loss: 0.0092 - acc: 0.9912\n",
            "Epoch 51/100\n",
            "454/454 [==============================] - 0s 58us/step - loss: 0.0088 - acc: 0.9934\n",
            "Epoch 52/100\n",
            "454/454 [==============================] - 0s 64us/step - loss: 0.0086 - acc: 0.9934\n",
            "Epoch 53/100\n",
            "454/454 [==============================] - 0s 59us/step - loss: 0.0084 - acc: 0.9934\n",
            "Epoch 54/100\n",
            "454/454 [==============================] - 0s 62us/step - loss: 0.0083 - acc: 0.9934\n",
            "Epoch 55/100\n",
            "454/454 [==============================] - 0s 60us/step - loss: 0.0081 - acc: 0.9934\n",
            "Epoch 56/100\n",
            "454/454 [==============================] - 0s 59us/step - loss: 0.0080 - acc: 0.9934\n",
            "Epoch 57/100\n",
            "454/454 [==============================] - 0s 62us/step - loss: 0.0080 - acc: 0.9934\n",
            "Epoch 58/100\n",
            "454/454 [==============================] - 0s 58us/step - loss: 0.0078 - acc: 0.9934\n",
            "Epoch 59/100\n",
            "454/454 [==============================] - 0s 57us/step - loss: 0.0078 - acc: 0.9934\n",
            "Epoch 60/100\n",
            "454/454 [==============================] - 0s 60us/step - loss: 0.0077 - acc: 0.9934\n",
            "Epoch 61/100\n",
            "454/454 [==============================] - 0s 63us/step - loss: 0.0076 - acc: 0.9934\n",
            "Epoch 62/100\n",
            "454/454 [==============================] - 0s 56us/step - loss: 0.0076 - acc: 0.9934\n",
            "Epoch 63/100\n",
            "454/454 [==============================] - 0s 59us/step - loss: 0.0075 - acc: 0.9934\n",
            "Epoch 64/100\n",
            "454/454 [==============================] - 0s 49us/step - loss: 0.0075 - acc: 0.9934\n",
            "Epoch 65/100\n",
            "454/454 [==============================] - 0s 55us/step - loss: 0.0074 - acc: 0.9934\n",
            "Epoch 66/100\n",
            "454/454 [==============================] - 0s 45us/step - loss: 0.0074 - acc: 0.9934\n",
            "Epoch 67/100\n",
            "454/454 [==============================] - 0s 44us/step - loss: 0.0073 - acc: 0.9934\n",
            "Epoch 68/100\n",
            "454/454 [==============================] - 0s 43us/step - loss: 0.0073 - acc: 0.9934\n",
            "Epoch 69/100\n",
            "454/454 [==============================] - 0s 48us/step - loss: 0.0073 - acc: 0.9934\n",
            "Epoch 70/100\n",
            "454/454 [==============================] - 0s 54us/step - loss: 0.0072 - acc: 0.9934\n",
            "Epoch 71/100\n",
            "454/454 [==============================] - 0s 46us/step - loss: 0.0072 - acc: 0.9934\n",
            "Epoch 72/100\n",
            "454/454 [==============================] - 0s 50us/step - loss: 0.0072 - acc: 0.9934\n",
            "Epoch 73/100\n",
            "454/454 [==============================] - 0s 74us/step - loss: 0.0072 - acc: 0.9934\n",
            "Epoch 74/100\n",
            "454/454 [==============================] - 0s 50us/step - loss: 0.0071 - acc: 0.9934\n",
            "Epoch 75/100\n",
            "454/454 [==============================] - 0s 49us/step - loss: 0.0071 - acc: 0.9934\n",
            "Epoch 76/100\n",
            "454/454 [==============================] - 0s 48us/step - loss: 0.0071 - acc: 0.9934\n",
            "Epoch 77/100\n",
            "454/454 [==============================] - 0s 46us/step - loss: 0.0071 - acc: 0.9934\n",
            "Epoch 78/100\n",
            "454/454 [==============================] - 0s 60us/step - loss: 0.0071 - acc: 0.9934\n",
            "Epoch 79/100\n",
            "454/454 [==============================] - 0s 52us/step - loss: 0.0070 - acc: 0.9934\n",
            "Epoch 80/100\n",
            "454/454 [==============================] - 0s 51us/step - loss: 0.0070 - acc: 0.9934\n",
            "Epoch 81/100\n",
            "454/454 [==============================] - 0s 44us/step - loss: 0.0070 - acc: 0.9934\n",
            "Epoch 82/100\n",
            "454/454 [==============================] - 0s 45us/step - loss: 0.0070 - acc: 0.9934\n",
            "Epoch 83/100\n",
            "454/454 [==============================] - 0s 47us/step - loss: 0.0070 - acc: 0.9934\n",
            "Epoch 84/100\n",
            "454/454 [==============================] - 0s 43us/step - loss: 0.0070 - acc: 0.9934\n",
            "Epoch 85/100\n",
            "454/454 [==============================] - 0s 48us/step - loss: 0.0069 - acc: 0.9934\n",
            "Epoch 86/100\n",
            "454/454 [==============================] - 0s 43us/step - loss: 0.0069 - acc: 0.9934\n",
            "Epoch 87/100\n",
            "454/454 [==============================] - 0s 49us/step - loss: 0.0069 - acc: 0.9934\n",
            "Epoch 88/100\n",
            "454/454 [==============================] - 0s 44us/step - loss: 0.0069 - acc: 0.9934\n",
            "Epoch 89/100\n",
            "454/454 [==============================] - 0s 50us/step - loss: 0.0069 - acc: 0.9934\n",
            "Epoch 90/100\n",
            "454/454 [==============================] - 0s 43us/step - loss: 0.0069 - acc: 0.9934\n",
            "Epoch 91/100\n",
            "454/454 [==============================] - 0s 46us/step - loss: 0.0069 - acc: 0.9934\n",
            "Epoch 92/100\n",
            "454/454 [==============================] - 0s 54us/step - loss: 0.0069 - acc: 0.9934\n",
            "Epoch 93/100\n",
            "454/454 [==============================] - 0s 46us/step - loss: 0.0068 - acc: 0.9934\n",
            "Epoch 94/100\n",
            "454/454 [==============================] - 0s 50us/step - loss: 0.0068 - acc: 0.9934\n",
            "Epoch 95/100\n",
            "454/454 [==============================] - 0s 47us/step - loss: 0.0068 - acc: 0.9934\n",
            "Epoch 96/100\n",
            "454/454 [==============================] - 0s 47us/step - loss: 0.0068 - acc: 0.9934\n",
            "Epoch 97/100\n",
            "454/454 [==============================] - 0s 53us/step - loss: 0.0068 - acc: 0.9934\n",
            "Epoch 98/100\n",
            "454/454 [==============================] - 0s 46us/step - loss: 0.0068 - acc: 0.9934\n",
            "Epoch 99/100\n",
            "454/454 [==============================] - 0s 47us/step - loss: 0.0068 - acc: 0.9934\n",
            "Epoch 100/100\n",
            "454/454 [==============================] - 0s 44us/step - loss: 0.0068 - acc: 0.9934\n"
          ],
          "name": "stdout"
        },
        {
          "output_type": "execute_result",
          "data": {
            "text/plain": [
              "<keras.callbacks.History at 0x7fc652e518d0>"
            ]
          },
          "metadata": {
            "tags": []
          },
          "execution_count": 15
        }
      ]
    },
    {
      "cell_type": "code",
      "metadata": {
        "id": "0wpSND6Adq0t",
        "colab_type": "code",
        "outputId": "b6e41238-64ef-4409-95d1-60611727ae5c",
        "colab": {
          "base_uri": "https://localhost:8080/",
          "height": 54
        }
      },
      "source": [
        "y_pred = classifier.predict(x_test)\n",
        "y_pred = [ 1 if y>=0.5 else 0 for y in y_pred]\n",
        "print(y_pred)"
      ],
      "execution_count": 0,
      "outputs": [
        {
          "output_type": "stream",
          "text": [
            "[0, 0, 0, 0, 0, 0, 0, 0, 0, 0, 0, 0, 0, 1, 1, 0, 1, 1, 1, 1, 1, 0, 0, 1, 0, 0, 1, 0, 1, 0, 1, 0, 1, 0, 1, 0, 1, 0, 1, 1, 0, 1, 0, 0, 1, 0, 0, 0, 1, 1, 1, 1, 0, 0, 0, 0, 0, 0, 1, 1, 1, 0, 0, 1, 0, 1, 1, 1, 0, 1, 1, 0, 1, 1, 0, 0, 0, 0, 0, 1, 1, 1, 0, 1, 0, 0, 0, 1, 1, 0, 1, 1, 1, 0, 0, 1, 0, 0, 0, 0, 0, 0, 0, 1, 0, 1, 0, 0, 1, 0, 1, 1, 0]\n"
          ],
          "name": "stdout"
        }
      ]
    },
    {
      "cell_type": "code",
      "metadata": {
        "id": "1zHpfWLHd3Xr",
        "colab_type": "code",
        "outputId": "ff7d1363-e231-440c-c7fe-f866e1503d80",
        "colab": {
          "base_uri": "https://localhost:8080/",
          "height": 51
        }
      },
      "source": [
        "from sklearn.metrics import confusion_matrix\n",
        "cm = confusion_matrix(y_test, y_pred)\n",
        "print(cm)"
      ],
      "execution_count": 0,
      "outputs": [
        {
          "output_type": "stream",
          "text": [
            "[[64  3]\n",
            " [ 1 45]]\n"
          ],
          "name": "stdout"
        }
      ]
    },
    {
      "cell_type": "code",
      "metadata": {
        "id": "MwZXoDy6fTx5",
        "colab_type": "code",
        "outputId": "e68b5c6f-92bf-461c-faac-41be95fbbaa3",
        "colab": {
          "base_uri": "https://localhost:8080/",
          "height": 258
        }
      },
      "source": [
        "\n",
        "print(accuracy_score(y_test, y_pred))\n",
        "\n",
        "\n",
        "mat = confusion_matrix(y_test, y_pred)\n",
        "sns.heatmap(mat.T, square=True, annot=True, fmt='d', cbar=False)\n",
        "plt.xlabel('true label')\n",
        "plt.ylabel('predicted label');"
      ],
      "execution_count": 0,
      "outputs": [
        {
          "output_type": "stream",
          "text": [
            "0.9646017699115044\n"
          ],
          "name": "stdout"
        },
        {
          "output_type": "display_data",
          "data": {
            "image/png": "[encoded data removed]",
            "text/plain": [
              "<Figure size 432x288 with 1 Axes>"
            ]
          },
          "metadata": {
            "tags": []
          }
        }
      ]
    }
  ]
}